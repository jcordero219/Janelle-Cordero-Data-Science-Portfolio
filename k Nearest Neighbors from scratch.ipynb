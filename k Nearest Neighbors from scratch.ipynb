{
 "cells": [
  {
   "cell_type": "markdown",
   "metadata": {},
   "source": [
    "# Objective: Implement k Nearest Neighbors without the use of machine learning packages\n",
    "\n",
    "Classified examples of email messages as spam or not spam."
   ]
  },
  {
   "cell_type": "code",
   "execution_count": 1,
   "metadata": {},
   "outputs": [],
   "source": [
    "import pandas as pd\n",
    "import math as m\n",
    "import numpy as np\n",
    "import scipy\n",
    "from scipy.spatial import distance\n",
    "from operator import itemgetter\n",
    "from __future__ import division\n",
    "import time\n",
    "import numpy.linalg"
   ]
  },
  {
   "cell_type": "markdown",
   "metadata": {},
   "source": [
    "# kNN classifier without standardization"
   ]
  },
  {
   "cell_type": "code",
   "execution_count": 5,
   "metadata": {},
   "outputs": [],
   "source": [
    "def knn2(k):\n",
    "    #Set up\n",
    "    spam_train = pd.read_csv(\"spam_train.csv\",header=0,sep=\",\")\n",
    "    spam_test = pd.read_csv(\"spam_test.csv\",header=0,sep=\",\")\n",
    "    test_t = spam_test.iloc[:,0].tolist()    #Store the 't' column in the test set as t_test\n",
    "    spam_test = spam_test.iloc[:,1:]    #Remove the 't' column from test set\n",
    "    spam_train = np.array(spam_train)    #convert train set to a numpy array\n",
    "    spam_test = np.array(spam_test)    #convert the test set to a numpy array\n",
    "    spam_train_labels = spam_train[:,57:]    #Store the train labels as spam_train_labels\n",
    "    spam_train_labels = spam_train_labels.tolist()    #convert to list for ease\n",
    "    spam_train_labels = [y for x in spam_train_labels for y in x]    #store the labels of the train set in a list\n",
    "    test_labels = spam_test[:,57].tolist()\n",
    "    pred_labels = [test_t,test_labels,[]]    #Final predictions list with t-column, test labels, predicted labels\n",
    "    euc_distance = scipy.spatial.distance.cdist(spam_test,spam_train,'euclidean') #distance between all test set observation and eachtrain set observation\n",
    "    \n",
    "    for i in range(0,len(euc_distance)):\n",
    "        neighbors = euc_distance[i].argsort()[:k]\n",
    "        final_k_labels = []\n",
    "        for j in range(0,len(neighbors)):\n",
    "            final_k_labels.append(spam_train_labels[neighbors[j]])\n",
    "            final_class = max(set(final_k_labels), key=final_k_labels.count)\n",
    "        pred_labels[2].append(final_class)    #append that mode to the final \"predictions\" list which contains the preded label for all test observations\n",
    "    \n",
    "    correct = 0\n",
    "    for i in range(0,len(pred_labels[0])):\n",
    "        if pred_labels[1][i] == pred_labels[2][i]:\n",
    "            correct = correct + 1.0\n",
    "    print \"k = \",k, \"\\n\",\"Accuracy = \", correct/2301"
   ]
  },
  {
   "cell_type": "code",
   "execution_count": 7,
   "metadata": {},
   "outputs": [
    {
     "name": "stdout",
     "output_type": "stream",
     "text": [
      "k =  1 \n",
      "Accuracy =  0.77357670578\n",
      "k =  5 \n",
      "Accuracy =  0.764450239027\n",
      "k =  11 \n",
      "Accuracy =  0.773142112125\n",
      "k =  21 \n",
      "Accuracy =  0.750543242069\n",
      "k =  41 \n",
      "Accuracy =  0.754889178618\n",
      "k =  61 \n",
      "Accuracy =  0.738374619731\n",
      "k =  81 \n",
      "Accuracy =  0.727944372012\n",
      "k =  101 \n",
      "Accuracy =  0.728813559322\n",
      "k =  201 \n",
      "Accuracy =  0.731421121252\n"
     ]
    }
   ],
   "source": [
    "knn2(1)\n",
    "knn2(5)\n",
    "knn2(11)\n",
    "knn2(21)\n",
    "knn2(41)\n",
    "knn2(61)\n",
    "knn2(81)\n",
    "knn2(101)\n",
    "knn2(201)"
   ]
  },
  {
   "cell_type": "markdown",
   "metadata": {},
   "source": [
    "# kNN classifier with standardization"
   ]
  },
  {
   "cell_type": "code",
   "execution_count": 2,
   "metadata": {},
   "outputs": [],
   "source": [
    "def knn_standard(k):\n",
    "    #Set up\n",
    "    spam_train = pd.read_csv(\"spam_train.csv\",header=0,sep=\",\")\n",
    "    spam_test = pd.read_csv(\"spam_test.csv\",header=0,sep=\",\")\n",
    "    test_t = spam_test.iloc[:,0].tolist()    #Store the 't' column in the test set as t_test\n",
    "    spam_test = spam_test.iloc[:,1:]    #Remove the 't' column from test set\n",
    "    spam_train = np.array(spam_train)    #convert train set to a numpy array\n",
    "    spam_test = np.array(spam_test)    #convert the test set to a numpy array\n",
    "    spam_train_labels = spam_train[:,57:]    #Store the train labels as spam_train_labels\n",
    "    spam_train_labels = spam_train_labels.tolist()    #convert to list for ease\n",
    "    spam_train_labels = [y for x in spam_train_labels for y in x]    #store the labels of the train set in a list\n",
    "    test_labels = spam_test[:,57].tolist()\n",
    "    pred_labels = [test_t,test_labels,[]]    #Final predictions list with t-column, test labels, predicted labels\n",
    "\n",
    "    \n",
    "    avg_for_column = []\n",
    "    std_for_column = []\n",
    "    for l in range(len(spam_train[0]-1)):\n",
    "        avg = spam_train[:,l].mean()\n",
    "        std = spam_train[:,l].std()\n",
    "        avg_for_column.append(avg)\n",
    "        std_for_column.append(std)\n",
    "        for m in range(len(spam_train[0]-1)):\n",
    "            spam_train[m,l] = (spam_train[m,l] - avg_for_column[l])/std_for_column[l]\n",
    "            spam_test[m,l] = (spam_test[m,l] - avg_for_column[l])/std_for_column[l]\n",
    "\n",
    "            \n",
    "    \n",
    "    euc_distance = scipy.spatial.distance.cdist(spam_test,spam_train,'euclidean') #distance between all test set observation and eachtrain set observation\n",
    "\n",
    "            \n",
    "    for i in range(0,len(euc_distance)):\n",
    "        neighbors = euc_distance[i].argsort()[:k]\n",
    "        final_k_labels = []\n",
    "        for j in range(0,len(neighbors)):\n",
    "            final_k_labels.append(spam_train_labels[neighbors[j]])\n",
    "            final_class = max(set(final_k_labels), key=final_k_labels.count)\n",
    "        pred_labels[2].append(final_class)    #append that mode to the final \"predictions\" list which contains the preded label for all test observations\n",
    "    \n",
    "    correct = 0\n",
    "    for i in range(0,len(pred_labels[0])):\n",
    "        if pred_labels[1][i] == pred_labels[2][i]:\n",
    "            correct = correct + 1.0\n",
    "    print \"k = \",k, \"\\n\",\"Accuracy = \", correct/2301"
   ]
  },
  {
   "cell_type": "code",
   "execution_count": 4,
   "metadata": {},
   "outputs": [
    {
     "name": "stdout",
     "output_type": "stream",
     "text": [
      "k =  1 \n",
      "Accuracy =  0.768796175576\n",
      "k =  5 \n",
      "Accuracy =  0.756627553238\n",
      "k =  11 \n",
      "Accuracy =  0.764884832681\n",
      "k =  21 \n",
      "Accuracy =  0.748370273794\n",
      "k =  41 \n",
      "Accuracy =  0.751847023033\n",
      "k =  61 \n",
      "Accuracy =  0.739678400695\n",
      "k =  81 \n",
      "Accuracy =  0.732290308561\n",
      "k =  101 \n",
      "Accuracy =  0.734463276836\n",
      "k =  201 \n",
      "Accuracy =  0.715341156019\n"
     ]
    }
   ],
   "source": [
    "knn_standard(1)\n",
    "knn_standard(5)\n",
    "knn_standard(11)\n",
    "knn_standard(21)\n",
    "knn_standard(41)\n",
    "knn_standard(61)\n",
    "knn_standard(81)\n",
    "knn_standard(101)\n",
    "knn_standard(201)"
   ]
  },
  {
   "cell_type": "code",
   "execution_count": 27,
   "metadata": {},
   "outputs": [],
   "source": [
    "#Set up\n",
    "def knn_standard_output(k,p):\n",
    "    spam_train = pd.read_csv(\"spam_train.csv\",header=0,sep=\",\")\n",
    "    spam_test = pd.read_csv(\"spam_test.csv\",header=0,sep=\",\")\n",
    "    global test_t\n",
    "    test_t = spam_test.iloc[:,0].tolist()    #Store the 't' column in the test set as t_test\n",
    "    spam_test = spam_test.iloc[:,1:]    #Remove the 't' column from test set\n",
    "    spam_train = np.array(spam_train)    #convert train set to a numpy array\n",
    "    spam_test = np.array(spam_test)    #convert the test set to a numpy array\n",
    "    spam_train_labels = spam_train[:,57:]    #Store the train labels as spam_train_labels\n",
    "    spam_train_labels = spam_train_labels.tolist()    #convert to list for ease\n",
    "    spam_train_labels = [y for x in spam_train_labels for y in x]    #store the labels of the train set in a list\n",
    "    test_labels = spam_test[:,57].tolist()\n",
    "    global pred_labels\n",
    "    pred_labels = [test_t,test_labels,[]]    #Final predictions list with t-column, test labels, predicted labels\n",
    "\n",
    "\n",
    "    avg_for_column = []\n",
    "    std_for_column = []\n",
    "    for l in range(len(spam_train[0]-1)):\n",
    "        avg = spam_train[:,l].mean()\n",
    "        std = spam_train[:,l].std()\n",
    "        avg_for_column.append(avg)\n",
    "        std_for_column.append(std)\n",
    "        for m in range(len(spam_train[0]-1)):\n",
    "            spam_train[m,l] = (spam_train[m,l] - avg_for_column[l])/std_for_column[l]\n",
    "\n",
    "    avg_for_column = []\n",
    "    std_for_column = []\n",
    "    for l in range(len(spam_test[0]-1)):\n",
    "        avg = spam_test[:,l].mean()\n",
    "        std = spam_test[:,l].std()\n",
    "        avg_for_column.append(avg)\n",
    "        std_for_column.append(std)\n",
    "        for m in range(len(spam_test)):\n",
    "            spam_test[m,l] = (spam_test[m,l] - avg_for_column[l])/std_for_column[l]\n",
    "\n",
    "\n",
    "\n",
    "    euc_distance = scipy.spatial.distance.cdist(spam_test,spam_train,'euclidean') #distance between all test set observation and eachtrain set observation\n",
    "\n",
    "    #k_list = [1,5,11,21,41,61,81,101,201]\n",
    "    #for k in k_list:\n",
    "    for i in range(0,len(euc_distance)):\n",
    "        neighbors = euc_distance[i].argsort()[:k]\n",
    "        final_k_labels = []\n",
    "        for j in range(0,len(neighbors)):\n",
    "            final_k_labels.append(spam_train_labels[neighbors[j]])\n",
    "            final_class = max(set(final_k_labels), key=final_k_labels.count)\n",
    "        pred_labels[2].append(final_class)    #append that mode to the final \"predictions\" list which contains the preded label for all test observations\n",
    "    return pred_labels[2][p]"
   ]
  },
  {
   "cell_type": "code",
   "execution_count": 28,
   "metadata": {},
   "outputs": [
    {
     "data": {
      "text/plain": [
       "0.0"
      ]
     },
     "execution_count": 28,
     "metadata": {},
     "output_type": "execute_result"
    }
   ],
   "source": [
    "knn_standard_output(1,2)"
   ]
  },
  {
   "cell_type": "code",
   "execution_count": 30,
   "metadata": {
    "scrolled": true
   },
   "outputs": [
    {
     "name": "stdout",
     "output_type": "stream",
     "text": [
      "t1 spam spam spam spam spam spam spam spam no \n",
      "\n",
      "t2 spam no spam spam spam spam spam spam no \n",
      "\n",
      "--- 27.7130000591 seconds ---\n"
     ]
    }
   ],
   "source": [
    "start_time = time.time()\n",
    "k_list = [1,5,11,21,41,61,81,101,201]\n",
    "for p in range(2):\n",
    "    print test_t[p],\n",
    "    for k in k_list:\n",
    "        x = knn_standard_output(k,p)\n",
    "        if x == 1:\n",
    "            print \"spam\",\n",
    "        else:\n",
    "            print \"no\",\n",
    "\n",
    "    print \"\\n\"\n",
    "\n",
    "print(\"--- %s seconds ---\" % (time.time() - start_time))"
   ]
  },
  {
   "cell_type": "code",
   "execution_count": null,
   "metadata": {
    "collapsed": true
   },
   "outputs": [],
   "source": []
  }
 ],
 "metadata": {
  "anaconda-cloud": {},
  "kernelspec": {
   "display_name": "Python 2",
   "language": "python",
   "name": "python2"
  },
  "language_info": {
   "codemirror_mode": {
    "name": "ipython",
    "version": 2
   },
   "file_extension": ".py",
   "mimetype": "text/x-python",
   "name": "python",
   "nbconvert_exporter": "python",
   "pygments_lexer": "ipython2",
   "version": "2.7.12"
  }
 },
 "nbformat": 4,
 "nbformat_minor": 1
}
